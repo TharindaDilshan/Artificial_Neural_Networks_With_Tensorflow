{
  "cells": [
    {
      "cell_type": "markdown",
      "metadata": {
        "id": "view-in-github",
        "colab_type": "text"
      },
      "source": [
        "<a href=\"https://colab.research.google.com/github/TharindaDilshan/Artificial_Neural_Networks_With_Tensorflow/blob/master/Evaluation/3.%20SMOTE/UCI/LR/SMOTE_UCI_Dataset_Evaluation(LR).ipynb\" target=\"_parent\"><img src=\"https://colab.research.google.com/assets/colab-badge.svg\" alt=\"Open In Colab\"/></a>"
      ]
    },
    {
      "cell_type": "markdown",
      "metadata": {
        "id": "pa_zUHDj8kdo"
      },
      "source": [
        "### Import Libraries"
      ],
      "id": "pa_zUHDj8kdo"
    },
    {
      "cell_type": "code",
      "execution_count": null,
      "metadata": {
        "id": "2IfyhX3Sfx1D"
      },
      "outputs": [],
      "source": [
        "!pip install -U cluster-over-sampling\n",
        "!pip install som-learn"
      ],
      "id": "2IfyhX3Sfx1D"
    },
    {
      "cell_type": "code",
      "execution_count": null,
      "metadata": {
        "id": "a45348a7"
      },
      "outputs": [],
      "source": [
        "import numpy as np\n",
        "import pandas as pd\n",
        "from sklearn.model_selection import GridSearchCV\n",
        "from sklearn.linear_model import LogisticRegression\n",
        "from sklearn.model_selection import StratifiedKFold\n",
        "from sklearn.model_selection import KFold\n",
        "from sklearn.preprocessing import StandardScaler\n",
        "from sklearn.utils import check_random_state\n",
        "from imblearn.over_sampling import SMOTE\n",
        "from imblearn.datasets import fetch_datasets\n",
        "from imblearn.pipeline import make_pipeline\n",
        "from clover.over_sampling import SOMO, KMeansSMOTE\n",
        "\n",
        "from sklearn.metrics import f1_score\n",
        "from sklearn.preprocessing import normalize\n",
        "from sklearn.metrics import roc_auc_score"
      ],
      "id": "a45348a7"
    },
    {
      "cell_type": "markdown",
      "source": [
        "### Grid Search"
      ],
      "metadata": {
        "id": "tIfi2essJsTm"
      },
      "id": "tIfi2essJsTm"
    },
    {
      "cell_type": "code",
      "source": [
        "DATASETS = fetch_datasets(filter_data=['abalone', 'mammography'])\n",
        "N_RND_SEEDS= 2 ** 32\n",
        "ESTIMATORS = {\n",
        "\t'smote': make_pipeline(StandardScaler(), SMOTE(), LogisticRegression()),\n",
        "\t'somo':  make_pipeline(StandardScaler(), SOMO(), LogisticRegression()),\n",
        "  'kmeans_smote':  make_pipeline(StandardScaler(), KMeansSMOTE(), LogisticRegression())\n",
        "}\n",
        "PARAM_GRIDS = {\n",
        "\t'smote': {'smote__k_neighbors': [2, 3, 4, 5]},\n",
        "\t'somo': {'somo__k_neighbors': [2, 3, 4, 5], 'somo__distribution_ratio': np.linspace(0.1, 1, 10)},\n",
        "        'kmeans_smote': {'kmeanssmote__k_neighbors': [2, 3, 4, 5]}\n",
        "}\n",
        "\t\n",
        "\n",
        "def fit_grid_search_cv(estimator_name, dataset_name, n_splits, seed):\n",
        "    # X, y = X, y\n",
        "    rnd_params = [param for param in ESTIMATORS[estimator_name].get_params() if param.endswith('random_state')]\n",
        "    rnd_seeds = check_random_state(seed).randint(N_RND_SEEDS, size=len(rnd_params))\n",
        "    gscv = GridSearchCV(\n",
        "        estimator=ESTIMATORS[estimator_name].set_params(**dict(zip(rnd_params, rnd_seeds))),\n",
        "        param_grid=PARAM_GRIDS[estimator_name],\n",
        "        scoring=['roc_auc', 'f1', 'f1_micro', 'f1_macro'],\n",
        "        cv=StratifiedKFold(n_splits=n_splits, shuffle=True),\n",
        "        refit=False\n",
        "    )  \n",
        "    return gscv.fit(X, y)\n",
        "\n",
        "gs = fit_grid_search_cv('smote', 'mammography', 5, 2)\n",
        "\n",
        "np.mean(gs.cv_results_['mean_test_roc_auc'])"
      ],
      "metadata": {
        "id": "YzTEDIWcyH5L"
      },
      "id": "YzTEDIWcyH5L",
      "execution_count": null,
      "outputs": []
    },
    {
      "cell_type": "markdown",
      "metadata": {
        "id": "Y312jr8asHql"
      },
      "source": [
        "### Parameter tuning using Cross Validation"
      ],
      "id": "Y312jr8asHql"
    },
    {
      "cell_type": "markdown",
      "metadata": {
        "id": "SP3g2b2pAwuU"
      },
      "source": [
        "#### Custom Cross Validation"
      ],
      "id": "SP3g2b2pAwuU"
    },
    {
      "cell_type": "code",
      "execution_count": null,
      "metadata": {
        "id": "iqIBJhYzsUCQ"
      },
      "outputs": [],
      "source": [
        "def custom_cross_val_score(params, X, y, n_splits=5, random_state=0, scoring=roc_auc_score):\n",
        "  skf = StratifiedKFold(n_splits=n_splits)\n",
        "  scores_roc = []\n",
        "  scores_f1_micro = []\n",
        "  scores_f1_macro = []\n",
        "  scores_f1_weighted = []\n",
        "\n",
        "  for train_index, test_index in skf.split(X, y):\n",
        "    X_train, X_test = X[train_index], X[test_index]\n",
        "    y_train, y_test = y[train_index], y[test_index]\n",
        "\n",
        "    sm = SMOTE(random_state=42, k_neighbors=params['neighbors'])\n",
        "    X_res, y_res = sm.fit_resample(X_train, y_train)\n",
        "\n",
        "    clf = LogisticRegression(random_state=9).fit(X_res, y_res)\n",
        "    pred = clf.predict(X_test)\n",
        "\n",
        "    scores_roc.append(roc_auc_score(y_test, pred))\n",
        "    scores_f1_micro.append(f1_score(y_test, pred, average='micro'))\n",
        "    scores_f1_macro.append(f1_score(y_test, pred, average='macro'))\n",
        "    scores_f1_weighted.append(f1_score(y_test, pred, average='weighted'))\n",
        "\n",
        "  return np.mean(scores_roc), np.mean(scores_f1_micro), np.mean(scores_f1_macro), np.mean(scores_f1_weighted)\n",
        "     "
      ],
      "id": "iqIBJhYzsUCQ"
    },
    {
      "cell_type": "markdown",
      "metadata": {
        "id": "AqujukEbA04l"
      },
      "source": [
        "#### Parameter Tuning"
      ],
      "id": "AqujukEbA04l"
    },
    {
      "cell_type": "code",
      "execution_count": null,
      "metadata": {
        "id": "0gcAb-Z5FyTo"
      },
      "outputs": [],
      "source": [
        "def hyper_param_tuner(X, y):\n",
        "  neighbors = [2, 3, 4, 5]\n",
        "\n",
        "  best_params = {}\n",
        "  best_auc_score = 0.0\n",
        "  best_f1_micro = 0.0\n",
        "  best_f1_macro = 0.0\n",
        "  best_f1_weighted = 0.0\n",
        "\n",
        "  for neighbor in neighbors:\n",
        "    params = {'neighbors': neighbor}\n",
        "    auc_score, f1_micro, f1_macro, f1_weighted = custom_cross_val_score(params, X, y)\n",
        "    if auc_score > best_auc_score:\n",
        "      best_auc_score = auc_score\n",
        "      best_params = params\n",
        "      best_f1_micro = f1_micro\n",
        "      best_f1_macro = f1_macro\n",
        "      best_f1_weighted = f1_weighted\n",
        "  \n",
        "  print(\"\\n\\nBest ROC AUC: \", best_auc_score)\n",
        "  print(\"F1 micro: \", best_f1_micro)\n",
        "  print(\"F1 macro: \", best_f1_macro)\n",
        "  print(\"F1 weighted: \", best_f1_weighted)\n",
        "  print(\"Best params: \", best_params)\n"
      ],
      "id": "0gcAb-Z5FyTo"
    },
    {
      "cell_type": "markdown",
      "source": [
        "### Data"
      ],
      "metadata": {
        "id": "YudDUjxnjuq5"
      },
      "id": "YudDUjxnjuq5"
    },
    {
      "cell_type": "markdown",
      "source": [
        "#### Ecoli"
      ],
      "metadata": {
        "id": "oBOyKAIgNzds"
      },
      "id": "oBOyKAIgNzds"
    },
    {
      "cell_type": "code",
      "source": [
        "ecoli = pd.read_fwf('ecoli.data', header=None)\n",
        "\n",
        "ecoli.drop(ecoli.columns[0], axis=1, inplace=True)\n",
        "ecoli = ecoli.T.reset_index(drop=True).T\n",
        "ecoli.loc[(ecoli[7] == 'pp'), ecoli.columns[7]] = 1\n",
        "ecoli.loc[(ecoli[7] != 1), ecoli.columns[7]] = 0\n",
        "\n",
        "X = ecoli.iloc[:,0:7]\n",
        "y = ecoli.iloc[:,7] \n",
        "y = y.astype(int)\n",
        "y = y.to_numpy()\n",
        "X = normalize(X)\n",
        "\n",
        "try:\n",
        "  hyper_param_tuner(X, y)\n",
        "except Exception as e:\n",
        "  print(str(e))"
      ],
      "metadata": {
        "id": "4dBeckdy6b96",
        "colab": {
          "base_uri": "https://localhost:8080/"
        },
        "outputId": "554bb96d-626c-40e2-c352-f91f1221d4c6"
      },
      "execution_count": null,
      "outputs": [
        {
          "output_type": "stream",
          "name": "stdout",
          "text": [
            "\n",
            "\n",
            "Best ROC AUC:  0.8862793347003874\n",
            "F1 micro:  0.8749341527655838\n",
            "F1 macro:  0.8223493889230215\n",
            "F1 weighted:  0.8871104907626478\n",
            "Best params:  {'neighbors': 4}\n"
          ]
        }
      ],
      "id": "4dBeckdy6b96"
    },
    {
      "cell_type": "markdown",
      "source": [
        "#### Haberman"
      ],
      "metadata": {
        "id": "iYaWwnaiUGYU"
      },
      "id": "iYaWwnaiUGYU"
    },
    {
      "cell_type": "code",
      "source": [
        "haberman = pd.read_csv('haberman.data', header=None)\n",
        "\n",
        "X = haberman.iloc[:,0:3]\n",
        "y = haberman.iloc[:,3]\n",
        "z = (y == 2)\n",
        "y = z.astype(int)\n",
        "y = y.to_numpy()\n",
        "X = normalize(X)\n",
        "\n",
        "try:\n",
        "  hyper_param_tuner(X, y)\n",
        "except Exception as e:\n",
        "  print(str(e))"
      ],
      "metadata": {
        "id": "kCdETZoqOv5B",
        "colab": {
          "base_uri": "https://localhost:8080/"
        },
        "outputId": "b93b447f-0a86-4bb4-d4fd-eb368691880c"
      },
      "execution_count": null,
      "outputs": [
        {
          "output_type": "stream",
          "name": "stdout",
          "text": [
            "\n",
            "\n",
            "Best ROC AUC:  0.6630228758169935\n",
            "F1 micro:  0.6993654151242729\n",
            "F1 macro:  0.6324015114336807\n",
            "F1 weighted:  0.7008816075831039\n",
            "Best params:  {'neighbors': 5}\n"
          ]
        }
      ],
      "id": "kCdETZoqOv5B"
    },
    {
      "cell_type": "markdown",
      "source": [
        "#### Iris"
      ],
      "metadata": {
        "id": "zl9bg_-_eEOD"
      },
      "id": "zl9bg_-_eEOD"
    },
    {
      "cell_type": "code",
      "source": [
        "iris = pd.read_csv('iris.data', header=None)\n",
        "\n",
        "iris.loc[(iris[4] == 'Iris-versicolor'), iris.columns[4]] = 1\n",
        "iris.loc[(iris[4] != 1), iris.columns[4]] = 0\n",
        "\n",
        "X = iris.iloc[:,0:4]\n",
        "y = iris.iloc[:,4]\n",
        "y = y.astype(int)\n",
        "y = y.to_numpy()\n",
        "X = normalize(X)\n",
        "\n",
        "try:\n",
        "  hyper_param_tuner(X, y)\n",
        "except Exception as e:\n",
        "  print(str(e))"
      ],
      "metadata": {
        "id": "jhGvj_FbeDZK",
        "colab": {
          "base_uri": "https://localhost:8080/"
        },
        "outputId": "170234bc-3cb3-4d2b-d236-24b302c94cb1"
      },
      "execution_count": null,
      "outputs": [
        {
          "output_type": "stream",
          "name": "stdout",
          "text": [
            "\n",
            "\n",
            "Best ROC AUC:  0.74\n",
            "F1 micro:  0.66\n",
            "F1 macro:  0.6256311510483525\n",
            "F1 weighted:  0.5932391955498502\n",
            "Best params:  {'neighbors': 2}\n"
          ]
        }
      ],
      "id": "jhGvj_FbeDZK"
    },
    {
      "cell_type": "markdown",
      "source": [
        "#### Libra"
      ],
      "metadata": {
        "id": "gIuCtSXCflFz"
      },
      "id": "gIuCtSXCflFz"
    },
    {
      "cell_type": "code",
      "source": [
        "libra = pd.read_csv('movement_libras.data', header=None)\n",
        "\n",
        "libra.loc[(libra[90] == 2), libra.columns[90]] = 1\n",
        "libra.loc[(libra[90] == 3), libra.columns[90]] = 1\n",
        "libra.loc[(libra[90] != 1), libra.columns[90]] = 0\n",
        "\n",
        "X = libra.iloc[:,0:90]\n",
        "y = libra.iloc[:,90]\n",
        "y = y.astype(int)\n",
        "y = y.to_numpy()\n",
        "X = normalize(X)\n",
        "\n",
        "try:\n",
        "  hyper_param_tuner(X, y)\n",
        "except Exception as e:\n",
        "  print(str(e))"
      ],
      "metadata": {
        "id": "kzCwaW09fXgq",
        "colab": {
          "base_uri": "https://localhost:8080/"
        },
        "outputId": "ea4d946a-110c-4282-b9a2-3daf0a8ec1e2"
      },
      "execution_count": null,
      "outputs": [
        {
          "output_type": "stream",
          "name": "stdout",
          "text": [
            "\n",
            "\n",
            "Best ROC AUC:  0.4643652234033359\n",
            "F1 micro:  0.4972222222222221\n",
            "F1 macro:  0.451015150195533\n",
            "F1 weighted:  0.5110258339474625\n",
            "Best params:  {'neighbors': 3}\n"
          ]
        }
      ],
      "id": "kzCwaW09fXgq"
    },
    {
      "cell_type": "markdown",
      "source": [
        "#### Liver"
      ],
      "metadata": {
        "id": "HVEvwt59eyNw"
      },
      "id": "HVEvwt59eyNw"
    },
    {
      "cell_type": "code",
      "source": [
        "liver = pd.read_csv('liver.data', header=None)\n",
        "liver.loc[(liver[6] != 1), liver.columns[6]] = 0\n",
        "\n",
        "X = liver.iloc[:,0:6]\n",
        "y = liver.iloc[:,6]\n",
        "y = y.astype(int)\n",
        "y = y.to_numpy()\n",
        "X = normalize(X)\n",
        "\n",
        "try:\n",
        "  hyper_param_tuner(X, y)\n",
        "except Exception as e:\n",
        "  print(str(e))"
      ],
      "metadata": {
        "id": "aAAqAKvneraJ",
        "colab": {
          "base_uri": "https://localhost:8080/"
        },
        "outputId": "b55278f2-9b78-47fc-83d1-521b68202f87"
      },
      "execution_count": null,
      "outputs": [
        {
          "output_type": "stream",
          "name": "stdout",
          "text": [
            "\n",
            "\n",
            "Best ROC AUC:  0.6411206896551723\n",
            "F1 micro:  0.6289855072463768\n",
            "F1 macro:  0.6249327339132135\n",
            "F1 weighted:  0.6266711580506942\n",
            "Best params:  {'neighbors': 5}\n"
          ]
        }
      ],
      "id": "aAAqAKvneraJ"
    },
    {
      "cell_type": "markdown",
      "source": [
        "#### Breast"
      ],
      "metadata": {
        "id": "4uPRB0iG2aaq"
      },
      "id": "4uPRB0iG2aaq"
    },
    {
      "cell_type": "code",
      "source": [
        "breast = pd.read_csv('BreastTissue.csv')\n",
        "\n",
        "breast.drop(breast.columns[0], axis=1, inplace=True)\n",
        "breast.loc[(breast.Class == 'car'), 'Class'] = 1\n",
        "breast.loc[(breast.Class == 'fad'), 'Class'] = 1\n",
        "breast.loc[(breast.Class != 1), 'Class'] = 0\n",
        "\n",
        "X = breast.iloc[:,1:10]\n",
        "y = breast.iloc[:,0]\n",
        "y = y.astype(int)\n",
        "y = y.to_numpy()\n",
        "X = normalize(X)\n",
        "\n",
        "try:\n",
        "  hyper_param_tuner(X, y)\n",
        "except Exception as e:\n",
        "  print(str(e))"
      ],
      "metadata": {
        "id": "tre-qfM_tMQx",
        "colab": {
          "base_uri": "https://localhost:8080/"
        },
        "outputId": "31391ee8-c56c-4722-8c6d-f9d2618b7b01"
      },
      "execution_count": null,
      "outputs": [
        {
          "output_type": "stream",
          "name": "stdout",
          "text": [
            "\n",
            "\n",
            "Best ROC AUC:  0.5714285714285714\n",
            "F1 micro:  0.5536796536796538\n",
            "F1 macro:  0.5472630545147708\n",
            "F1 weighted:  0.56043463596324\n",
            "Best params:  {'neighbors': 2}\n"
          ]
        }
      ],
      "id": "tre-qfM_tMQx"
    },
    {
      "cell_type": "markdown",
      "source": [
        "#### Glass"
      ],
      "metadata": {
        "id": "fJZw1qtKPRur"
      },
      "id": "fJZw1qtKPRur"
    },
    {
      "cell_type": "code",
      "source": [
        "glass = pd.read_csv('glass.data', header=None)\n",
        "\n",
        "glass.drop(glass.columns[0], axis=1, inplace=True)\n",
        "glass = glass.T.reset_index(drop=True).T\n",
        "glass.loc[(glass[9] != 1), glass.columns[9]] = 0\n",
        "\n",
        "X = glass.iloc[:,0:9]\n",
        "y = glass.iloc[:,9]\n",
        "y = y.astype(int)\n",
        "y = y.to_numpy()\n",
        "X = normalize(X)\n",
        "\n",
        "try:\n",
        "  hyper_param_tuner(X, y)\n",
        "except Exception as e:\n",
        "  print(str(e))"
      ],
      "metadata": {
        "id": "2_T1KXTvLbVo",
        "colab": {
          "base_uri": "https://localhost:8080/"
        },
        "outputId": "7d1eed7f-a13b-4ac2-9379-73a3e0b8fb2b"
      },
      "execution_count": null,
      "outputs": [
        {
          "output_type": "stream",
          "name": "stdout",
          "text": [
            "\n",
            "\n",
            "Best ROC AUC:  0.6849753694581281\n",
            "F1 micro:  0.5951273532668881\n",
            "F1 macro:  0.566042932987066\n",
            "F1 weighted:  0.5414986293659637\n",
            "Best params:  {'neighbors': 3}\n"
          ]
        }
      ],
      "id": "2_T1KXTvLbVo"
    },
    {
      "cell_type": "markdown",
      "source": [
        "#### Heart"
      ],
      "metadata": {
        "id": "6fbmRJRNaKq6"
      },
      "id": "6fbmRJRNaKq6"
    },
    {
      "cell_type": "code",
      "source": [
        "heart = pd.read_csv('heart.dat', sep='\\s', header=None)\n",
        "\n",
        "heart.loc[(heart[13] != 2), heart.columns[13]] = 0\n",
        "heart.loc[(heart[13] == 2), heart.columns[13]] = 1\n",
        "\n",
        "X = heart.iloc[:,0:13]\n",
        "y = heart.iloc[:,13]\n",
        "y = y.astype(int)\n",
        "y = y.to_numpy()\n",
        "X = normalize(X)\n",
        "\n",
        "try:\n",
        "  hyper_param_tuner(X, y)\n",
        "except Exception as e:\n",
        "  print(str(e))"
      ],
      "metadata": {
        "id": "3r8oZp6TaFSg",
        "colab": {
          "base_uri": "https://localhost:8080/"
        },
        "outputId": "21a7f0d8-1f5d-4b86-ebfd-464e00cf45b4"
      },
      "execution_count": null,
      "outputs": [
        {
          "output_type": "stream",
          "name": "stdout",
          "text": [
            "\n",
            "\n",
            "Best ROC AUC:  0.6783333333333333\n",
            "F1 micro:  0.6777777777777778\n",
            "F1 macro:  0.6754620892028131\n",
            "F1 weighted:  0.6781072273047922\n",
            "Best params:  {'neighbors': 2}\n"
          ]
        },
        {
          "output_type": "stream",
          "name": "stderr",
          "text": [
            "/usr/local/lib/python3.7/dist-packages/ipykernel_launcher.py:1: ParserWarning: Falling back to the 'python' engine because the 'c' engine does not support regex separators (separators > 1 char and different from '\\s+' are interpreted as regex); you can avoid this warning by specifying engine='python'.\n",
            "  \"\"\"Entry point for launching an IPython kernel.\n"
          ]
        }
      ],
      "id": "3r8oZp6TaFSg"
    },
    {
      "cell_type": "markdown",
      "source": [
        "#### Wine"
      ],
      "metadata": {
        "id": "liW6Ots_gVmj"
      },
      "id": "liW6Ots_gVmj"
    },
    {
      "cell_type": "code",
      "source": [
        "wine = pd.read_csv('wine.data', header=None)\n",
        "\n",
        "wine.loc[(wine[0] != 2), wine.columns[0]] = 0\n",
        "wine.loc[(wine[0] == 2), wine.columns[0]] = 1\n",
        "\n",
        "X = wine.iloc[:,1:14]\n",
        "X = X.T.reset_index(drop=True).T\n",
        "y = wine.iloc[:,0]\n",
        "y = y.astype(int)\n",
        "y = y.to_numpy()\n",
        "X = normalize(X)\n",
        "\n",
        "try:\n",
        "  hyper_param_tuner(X, y)\n",
        "except Exception as e:\n",
        "  print(str(e))"
      ],
      "metadata": {
        "id": "DquvhJW5gMZr",
        "colab": {
          "base_uri": "https://localhost:8080/"
        },
        "outputId": "7dc3e415-e732-4def-ac68-d469b59cb7f4"
      },
      "execution_count": null,
      "outputs": [
        {
          "output_type": "stream",
          "name": "stdout",
          "text": [
            "\n",
            "\n",
            "Best ROC AUC:  0.7152380952380952\n",
            "F1 micro:  0.7236507936507935\n",
            "F1 macro:  0.7052106431866494\n",
            "F1 weighted:  0.7134748940811891\n",
            "Best params:  {'neighbors': 2}\n"
          ]
        }
      ],
      "id": "DquvhJW5gMZr"
    }
  ],
  "metadata": {
    "colab": {
      "collapsed_sections": [
        "pa_zUHDj8kdo",
        "i_XMoXGm1hmH",
        "Y312jr8asHql",
        "SP3g2b2pAwuU",
        "AqujukEbA04l",
        "YudDUjxnjuq5",
        "4uPRB0iG2aaq",
        "oBOyKAIgNzds"
      ],
      "name": "SMOTE - UCI Dataset Evaluation(LR).ipynb",
      "provenance": [],
      "include_colab_link": true
    },
    "kernelspec": {
      "display_name": "Python 3",
      "language": "python",
      "name": "python3"
    },
    "language_info": {
      "codemirror_mode": {
        "name": "ipython",
        "version": 3
      },
      "file_extension": ".py",
      "mimetype": "text/x-python",
      "name": "python",
      "nbconvert_exporter": "python",
      "pygments_lexer": "ipython3",
      "version": "3.8.8"
    }
  },
  "nbformat": 4,
  "nbformat_minor": 5
}